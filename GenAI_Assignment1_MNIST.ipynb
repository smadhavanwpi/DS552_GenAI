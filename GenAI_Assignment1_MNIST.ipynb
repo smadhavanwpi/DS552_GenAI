{
  "nbformat": 4,
  "nbformat_minor": 0,
  "metadata": {
    "colab": {
      "provenance": []
    },
    "kernelspec": {
      "name": "python3",
      "display_name": "Python 3"
    },
    "language_info": {
      "name": "python"
    }
  },
  "cells": [
    {
      "cell_type": "code",
      "execution_count": 1,
      "metadata": {
        "id": "jT_EUn6sP2b8"
      },
      "outputs": [],
      "source": [
        "import numpy as np\n",
        "import pandas as pd\n",
        "from sklearn.datasets import fetch_openml\n",
        "from sklearn.model_selection import train_test_split\n",
        "from sklearn.naive_bayes import GaussianNB\n",
        "from sklearn.linear_model import LogisticRegression\n",
        "from sklearn.metrics import accuracy_score, classification_report\n",
        "from sklearn.preprocessing import MinMaxScaler\n"
      ]
    },
    {
      "cell_type": "code",
      "source": [
        "\n",
        "# Load the MNIST dataset\n",
        "print(\"Loading MNIST dataset...\")\n",
        "mnist = fetch_openml('mnist_784', version=1, as_frame=False)\n",
        "X, y = mnist.data, mnist.target.astype(int)\n",
        "\n",
        "# Normalize pixel values to [0, 1]\n",
        "X = X / 255.0\n",
        "\n",
        "# Split the dataset into training and test sets\n",
        "X_train, X_test, y_train, y_test = train_test_split(X, y, test_size=0.3, random_state=42)\n"
      ],
      "metadata": {
        "colab": {
          "base_uri": "https://localhost:8080/"
        },
        "id": "c0rfOadrP_Yi",
        "outputId": "cc2964fb-8711-4d4a-c0d9-528cdabd53bb"
      },
      "execution_count": 2,
      "outputs": [
        {
          "output_type": "stream",
          "name": "stdout",
          "text": [
            "Loading MNIST dataset...\n"
          ]
        }
      ]
    },
    {
      "cell_type": "code",
      "source": [
        "\n",
        "# Naive Bayes Model\n",
        "print(\"Training Naive Bayes model...\")\n",
        "nb_model = GaussianNB()\n",
        "nb_model.fit(X_train, y_train)\n",
        "\n",
        "# Logistic Regression Model\n",
        "print(\"Training Logistic Regression model...\")\n",
        "lr_model = LogisticRegression(max_iter=1000, random_state=42)\n",
        "lr_model.fit(X_train, y_train)\n",
        "\n",
        "# Evaluate Naive Bayes\n",
        "nb_train_pred = nb_model.predict(X_train)\n",
        "nb_test_pred = nb_model.predict(X_test)\n",
        "\n",
        "nb_train_accuracy = accuracy_score(y_train, nb_train_pred)\n",
        "nb_test_accuracy = accuracy_score(y_test, nb_test_pred)\n",
        "\n",
        "print(\"\\nNaive Bayes - Training Accuracy:\", nb_train_accuracy)\n",
        "print(\"Naive Bayes - Test Accuracy:\", nb_test_accuracy)\n",
        "print(\"Naive Bayes - Classification Report on Test Data:\")\n",
        "print(classification_report(y_test, nb_test_pred))\n"
      ],
      "metadata": {
        "colab": {
          "base_uri": "https://localhost:8080/"
        },
        "id": "LFab-sYxQFnh",
        "outputId": "9361ff13-7737-4e6d-fcfb-40a37ac622e6"
      },
      "execution_count": 3,
      "outputs": [
        {
          "output_type": "stream",
          "name": "stdout",
          "text": [
            "Training Naive Bayes model...\n",
            "Training Logistic Regression model...\n",
            "\n",
            "Naive Bayes - Training Accuracy: 0.5514897959183673\n",
            "Naive Bayes - Test Accuracy: 0.550952380952381\n",
            "Naive Bayes - Classification Report on Test Data:\n",
            "              precision    recall  f1-score   support\n",
            "\n",
            "           0       0.64      0.92      0.75      2058\n",
            "           1       0.79      0.95      0.86      2364\n",
            "           2       0.86      0.31      0.45      2133\n",
            "           3       0.75      0.34      0.47      2176\n",
            "           4       0.86      0.13      0.23      1936\n",
            "           5       0.55      0.04      0.07      1915\n",
            "           6       0.61      0.95      0.74      2088\n",
            "           7       0.90      0.29      0.44      2248\n",
            "           8       0.30      0.56      0.39      1992\n",
            "           9       0.37      0.94      0.53      2090\n",
            "\n",
            "    accuracy                           0.55     21000\n",
            "   macro avg       0.66      0.54      0.49     21000\n",
            "weighted avg       0.67      0.55      0.50     21000\n",
            "\n"
          ]
        }
      ]
    },
    {
      "cell_type": "code",
      "source": [
        "\n",
        "# Evaluate Logistic Regression\n",
        "lr_train_pred = lr_model.predict(X_train)\n",
        "lr_test_pred = lr_model.predict(X_test)\n",
        "\n",
        "lr_train_accuracy = accuracy_score(y_train, lr_train_pred)\n",
        "lr_test_accuracy = accuracy_score(y_test, lr_test_pred)\n",
        "\n",
        "print(\"\\nLogistic Regression - Training Accuracy:\", lr_train_accuracy)\n",
        "print(\"Logistic Regression - Test Accuracy:\", lr_test_accuracy)\n",
        "print(\"Logistic Regression - Classification Report on Test Data:\")\n",
        "print(classification_report(y_test, lr_test_pred))\n",
        "\n",
        "# Compare performance\n",
        "print(\"\\nModel Comparison:\")\n",
        "print(\"Naive Bayes - Test Accuracy:\", nb_test_accuracy)\n",
        "print(\"Logistic Regression - Test Accuracy:\", lr_test_accuracy)\n",
        "\n",
        "if nb_test_accuracy > lr_test_accuracy:\n",
        "    print(\"Naive Bayes performs better on MNIST.\")\n",
        "elif lr_test_accuracy > nb_test_accuracy:\n",
        "    print(\"Logistic Regression performs better on MNIST.\")\n",
        "else:\n",
        "    print(\"Both models perform similarly on MNIST.\")"
      ],
      "metadata": {
        "colab": {
          "base_uri": "https://localhost:8080/"
        },
        "id": "Z2FnOV5FQIqk",
        "outputId": "cd5ddafb-6d67-4aef-ad2e-37945c207a63"
      },
      "execution_count": 4,
      "outputs": [
        {
          "output_type": "stream",
          "name": "stdout",
          "text": [
            "\n",
            "Logistic Regression - Training Accuracy: 0.9403265306122449\n",
            "Logistic Regression - Test Accuracy: 0.9208095238095239\n",
            "Logistic Regression - Classification Report on Test Data:\n",
            "              precision    recall  f1-score   support\n",
            "\n",
            "           0       0.95      0.96      0.96      2058\n",
            "           1       0.95      0.97      0.96      2364\n",
            "           2       0.92      0.90      0.91      2133\n",
            "           3       0.90      0.89      0.90      2176\n",
            "           4       0.92      0.93      0.92      1936\n",
            "           5       0.89      0.88      0.89      1915\n",
            "           6       0.94      0.95      0.95      2088\n",
            "           7       0.93      0.94      0.94      2248\n",
            "           8       0.89      0.87      0.88      1992\n",
            "           9       0.90      0.90      0.90      2090\n",
            "\n",
            "    accuracy                           0.92     21000\n",
            "   macro avg       0.92      0.92      0.92     21000\n",
            "weighted avg       0.92      0.92      0.92     21000\n",
            "\n",
            "\n",
            "Model Comparison:\n",
            "Naive Bayes - Test Accuracy: 0.550952380952381\n",
            "Logistic Regression - Test Accuracy: 0.9208095238095239\n",
            "Logistic Regression performs better on MNIST.\n"
          ]
        }
      ]
    }
  ]
}